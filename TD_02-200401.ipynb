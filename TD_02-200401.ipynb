{
 "cells": [
  {
   "cell_type": "markdown",
   "metadata": {},
   "source": [
    "# Winter thermal loads\n",
    "\n",
    "## Bibiliography\n",
    "\n",
    "[Charges chauffage NF EN 12831](https://www.thermexcel.com/french/energie/Calcul_deperditions_thermiques_NF_EN_12831.htm)\n",
    "\n",
    "[Calcul des deperditions NF NE 12831](https://www.thermexcel.com/french/ressourc/calcul_deperdition_calculs_deperditions.htm)\n",
    "\n",
    "[AICVF Psychrometric diagramme](http://aicvf.org/comite-technique/files/2013/12/a4_-0m-_-version-enseignement-_rv.pdf)\n",
    "\n",
    "[Psychrometric Calculator 1](http://www.sugartech.co.za/psychro/index.php)\n",
    "\n",
    "[Psychrometric Calculator 2](https://www.rotronic.com/fr-fr/humidity_measurement-feuchtemessung-mesure_de_l_humidite/humidity-calculator-feuchterechner-mr)\n",
    "\n",
    "[Definition of surfaces: SHONRT, SDP](http://construction.senova.fr/conseils-techniques/shob-et-shon-cest-fini-tout-sur-la-nouvelle-surface-de-plancher/)\n",
    "\n",
    "[Correction factor for infiltration](https://unmethours.com/question/26477/how-to-set-air-infiltration-under-50-pa-pressure/)\n",
    "\n",
    "## Data\n",
    "**Characteristics of the building components**\n",
    "\n",
    "|Layer|$w~\\text{(m)}$|$\\lambda\\text{(W/mK)}$| $\\rho~\\mathrm{({kg/m^{3})}}$|$c~\\mathrm{({J/kgK})}$|\n",
    "|-----|------------|--------------------|----------------|---|\n",
    "|$\\textbf{External wall}$|\n",
    "|Exterior plaster| 0.01|0.80  |1200|1000|\n",
    "|Insulation|0.12|0.035|80|840|\n",
    "|Plaster| 0.01 | 1.0 | 1200 | 1000|\n",
    "|Honeycomb brick|0.20|0.22|800|1000|\n",
    "|Internal plaster| 0.01|1.00|1200|1000|\n",
    "|$\\textbf{Internal wall}$|\n",
    "|Internal plaster| 0.01|0.35|1200|1000|\n",
    "|Honeycomb brick|0.25|0.33|1000|1000|\n",
    "|Internal plaster| 0.01|0.35|1200|1000|\n",
    "|$\\textbf{Ceiling}$|\n",
    "|Screed|0.04|1.4|2000|1000|\n",
    "|Insulation| 0.04|0.04|80|840|\n",
    "|Concrete| 0.22|2.0|2400|1000|\n",
    "|Plaster| 0.01|1.0|1200|1000|\n",
    "|Insulation| 0.10|0.035|80|840|\n",
    "|$\\textbf{Floor}$|\n",
    "|Concrete| 0.22|2.1|2400|1000|\n",
    "|Leveling fill|0.029|0.060|80|840|\n",
    "|Insulation| 0.030|0.025|80|840|\n",
    "|Composite panel|0.033|0.023|80|840|\n",
    "|Screed|0.065|1.4|2000|1000|\n",
    "|$\\textbf{Exterior door}$|\n",
    "|Wood| 0.04|0.131|600|1000|\n",
    "\n",
    "**Thermal bridges**\n",
    "\n",
    "|Junction|$\\psi~\\text{(W/mK)}$|\n",
    "|--------|----------------------------|\n",
    "|External wall - floor|0.107|\n",
    "|External wall - ceiling|0.084|\n",
    "|External wall - external wall|0.091\n",
    "\n",
    "**Window**\n",
    "\n",
    "- $U_w=1.2~\\mathrm{W/m^2K}$\n",
    "\n",
    "**Convection coefficients:**\n",
    "\n",
    "- $h_i=8~\\mathrm{W/m^2K}$ indoor \n",
    "- $h_o=25~\\mathrm{W/m^2K}$ outdoor \n",
    "\n",
    "\n",
    "**Temperatures and humidity** [->](https://www.thermexcel.com/french/ressourc/calcul_deperdition_calculs_deperditions.htm)\n",
    "\n",
    "- $\\theta_i = 20~\\mathrm{°C},~\\varphi_i=60~\\%$  indoor\n",
    "- $\\theta_o = -10~\\mathrm{°C},~\\varphi_i=100~\\%$, outdoor (for Lyon)[->](https://www.thermexcel.com/french/energie/Calcul_deperditions_thermiques_NF_EN_12831.htm)\n",
    "\n",
    "Adjacent non-heated spaces (correction factor for non-heated space $\\tau = 0.8$)\n",
    "- $\\theta_a = \\theta_i - \\tau(\\theta_i - \\theta_o)$, \n",
    "- $\\theta_c = \\theta_i - \\tau(\\theta_i - \\theta_o)$.\n",
    "- humidity ratio of the air in the attic and in the cellar are equal to the outdoor value.\n",
    "\n",
    "**Occupants** [->](https://energieplus-lesite.be/theories/bilan-thermique44/charges-thermiques-internes-pour-les-bureaux/#Lapport_des_occupants)\n",
    "\n",
    "- $n_p=5$, number of persons\n",
    "- $q_{s,p}=83~\\mathrm{W}$, sensible heat per person\n",
    "- $q_{l,p}=49~\\mathrm{W}$, sensible heat per person\n",
    "- $\\dot{m}_{v,p}=71~\\mathrm{g/h}$, vapor mas flow per person\n",
    "\n",
    "\n",
    "**Lighting and electrical equipments** [->](https://sites.uclouvain.be/energie-plus/index.php?id=11245)\n",
    "\n",
    "- $p_{e}=20~\\mathrm{W/m^2}$\n",
    "\n",
    "\n",
    "**Air leackage for the whole ground floor**\n",
    "\n",
    "- $n_{50}=1.62$ air changes per hour at 50 Pa\n",
    "- $ACH=n_{50}/n=1.62/23=0.07$ air changes per hour at 4 Pa [->](https://unmethours.com/question/26477/how-to-set-air-infiltration-under-50-pa-pressure/)\n",
    "\n",
    "**Supply air temperature**\n",
    "\n",
    "- $t_S = t_I+15~\\mathrm{°C}$ for heating\n",
    "- $t_S = t_I-10~\\mathrm{°C}$ for cooling\n",
    "\n",
    "**Notes:**\n",
    "\n",
    "1) For the [thermal bridges wall-floor and wall-ceiling](https://www.ecohome.net/media/articles/images/c8/86/c88668779794bc0e41c74a8c68d3cea86aa658e8/thumbs/QdE-LAzl1-iE_1200x500_ZBprRkQU.jpg), consider that half of the flow through the thermal bridge is coming from the ground floor and half from the celler and attic, respectively.\n",
    "\n",
    "2) The [surfaces](http://construction.senova.fr/conseils-techniques/shob-et-shon-cest-fini-tout-sur-la-nouvelle-surface-de-plancher/) considered in thermal calculations are the indoor ones. \n",
    "\n",
    "3) The [air leackeage mesured at 50 Pa needs to be corrected](https://unmethours.com/question/26477/how-to-set-air-infiltration-under-50-pa-pressure/) for lower pressure (about 4 Pa), which is normal when the wind is not very strong.\n",
    "\n",
    "## House description\n",
    "The house having the layout shown below is considered a single thermal zone.\n",
    "\n",
    "The ceiling height $H = 2.495~\\mathrm{m}$.\n",
    "\n",
    "The Livingroom has a lareg window and Frech windown on the South façade (both are considered windows). \n",
    "![Dimensions](TD_02_Fig02.png)\n",
    "\n",
    "##  Calculate\n",
    "\n",
    "**1. Sensible heat transfer through the envelope**\n",
    "\n",
    "*1.1. Global conductivities of the surfacic elements:*\n",
    "\n",
    "- external walls, $U_e~\\mathrm{[W/m^2K}]$;\n",
    "- internal walls, $U_i~\\mathrm{[W/m^2K}]$;\n",
    "- floor, $U_f~\\mathrm{[W/m^2K}]$;\n",
    "- ceiling, $U_c~\\mathrm{[W/m^2K}]$;\n",
    "- exterior door, $U_d~\\mathrm{[W/m^2K}]$;\n",
    "\n",
    "*1.2 Surfaces to be used for heat transfert through the building envelope:*\n",
    "\n",
    "- windows, $S_{w}~\\mathrm{[m^2]}$;\n",
    "- exterior door, $S_{d}~\\mathrm{[m^2]}$;\n",
    "- exterior walls, $S_{e}~\\mathrm{[m^2]}$;\n",
    "- floor, $S_{f}~\\mathrm{[m^2]}$;\n",
    "- ceiling, $S_{c}~\\mathrm{[m^2]}$.\n",
    "\n",
    "**2. Sensible and latent loads of the thermal zone**\n",
    "\n",
    "*2.1. Sensible load:*\n",
    "\n",
    "- sensible heat loss through the envelope: external walls, windows, doors, and horizontal and vertical thermal bridges ${\\dot{Q}_{se}}~\\mathrm{[W]}$;\n",
    "- sensible heat loss through envelope and air infiltration ${\\dot{Q}_{sl}}~\\mathrm{[W]}$;\n",
    "- percentage of losses through walls, windows, door, thermal bridges, air infiltration;\n",
    "- sensible load of the thermal zone (considering the losses through the envelope and air infiltration, and the gains from occupants and the electrical devices), ${\\dot{Q}_{sz}}~\\mathrm{[W]}$;\n",
    "\n",
    "\n",
    "*2.2. Latent load*\n",
    "\n",
    "- latent, ${\\dot{Q_l}}~\\mathrm{[W]}$.\n",
    "\n",
    "**3. Supply air**\n",
    "\n",
    "*3.1. Characteristics of supply air:*\n",
    "\n",
    "- mass flow rate of supply air, $\\dot{m}_{da,S}~\\mathrm{[kg/s]}$;\n",
    "- temperature of supply air, $\\theta_{S}~\\mathrm{[°C]}$;\n",
    "- humidity of supply air, $w_{S}~\\mathrm{[g/kg]}$;\n",
    "- volume flow rate of supply air, $\\dot{V}_S~\\mathrm{[m^3/s]}$\n",
    "- supply air flow rate expressed as air chnages per hour of the whole zone, $ACH~\\mathrm{[vol/h]}$\n",
    "\n",
    "*3.2. All outdoor air*\n",
    "\n",
    "- heating power of Air Handling Unit, $\\dot{Q}_{h}~\\mathrm{[W]}$;\n",
    "- mass flow rate of vapor of Air Handling Unit, $\\dot{m}_{v}~\\mathrm{[g/s]}$;\n",
    "- indoor humidity if there is no humidity control, $w_I~\\mathrm{[g/kg]},~\\varphi_I~\\mathrm{[\\%]}$\n",
    "\n",
    "*3.3. All recycled air*\n",
    "\n",
    "- heating power of Air Handling Unit, $\\dot{Q}_{h}~\\mathrm{[W]}$;\n",
    "- mass flow rate of vapor of Air Handling Unit, $\\dot{m}_{v}~\\mathrm{[g/s]}$;\n",
    "- indoor humidity if there is no humidity control, $w_I~\\mathrm{[g/kg]},~\\varphi_I~\\mathrm{[\\%]}$"
   ]
  },
  {
   "cell_type": "markdown",
   "metadata": {},
   "source": [
    "# Sensible heat transfer through the envelope"
   ]
  },
  {
   "cell_type": "markdown",
   "metadata": {},
   "source": [
    "## Global conductivities of building elements [->](https://www.thermexcel.com/french/ressourc/calcul_deperdition_calculs_deperditions.htm)\n",
    "\n",
    "- external walls, $U_e~\\mathrm{[W/m^2K}]$;\n",
    "- internal walls, $U_i~\\mathrm{[W/m^2K}]$;\n",
    "- floor, $U_f~\\mathrm{[W/m^2K}]$;\n",
    "- ceiling, $U_c~\\mathrm{[W/m^2K}]$;\n",
    "- exterior door, $U_d~\\mathrm{[W/m^2K}]$;"
   ]
  },
  {
   "cell_type": "code",
   "execution_count": 1,
   "metadata": {
    "scrolled": true
   },
   "outputs": [
    {
     "name": "stdout",
     "output_type": "stream",
     "text": [
      "Ue =   0.220 W/m2 K, external walls\n"
     ]
    }
   ],
   "source": [
    "import numpy as np\n",
    "\n",
    "# Constants\n",
    "M_da, M_v, R = 28.9645, 18, 8320\n",
    "c_da, c_v,  = 1e3, 1.96e3   # specific heat  J/kg K\n",
    "l_v = 2495.0e3              # specific latent heat J/kg\n",
    "\n",
    "hi, ho = 8, 25                                    # convection coeff\n",
    "\n",
    "w = np.array([0.01,   0.12,  0.01, 0.20, 0.01])    # width\n",
    "lam = np.array([0.80, 0.035, 1.00, 0.22, 1.00])    # conductivity\n",
    "rho = np.array([1200, 80,    1200, 800,  1200])    # density\n",
    "c = np.array([1000,   840,   1000, 1000])         # specific heat\n",
    "\n",
    "Ue = 1/(1/hi + np.sum(w/lam) + 1/ho)\n",
    "print('Ue =  % 5.3f W/m2 K, external walls' % Ue)"
   ]
  },
  {
   "cell_type": "code",
   "execution_count": 2,
   "metadata": {},
   "outputs": [
    {
     "name": "stdout",
     "output_type": "stream",
     "text": [
      "Ui =   0.939 W/m2 K, internal walls\n"
     ]
    }
   ],
   "source": [
    "# Internal wall\n",
    "w = np.array([0.01,   0.25,    0.01])               # width\n",
    "lam = np.array([0.35, 0.33,    0.35])             # conductivity\n",
    "rho = np.array([1200, 1000,    1200])             # density\n",
    "c = np.array([1000,  1000,    1000])                # specific heat\n",
    "\n",
    "Ui = 1/(1/hi + np.sum(w/lam) + 1/hi)\n",
    "print('Ui =  % 5.3f W/m2 K, internal walls' % Ui)"
   ]
  },
  {
   "cell_type": "code",
   "execution_count": 3,
   "metadata": {},
   "outputs": [
    {
     "name": "stdout",
     "output_type": "stream",
     "text": [
      "Uf =   0.294 W/m2 K, floor\n"
     ]
    }
   ],
   "source": [
    "# Floor\n",
    "w = np.array([0.22,   0.03,  0.03,  0.03,  0.065])  # width\n",
    "lam = np.array([2.1,  0.06,  0.025, 0.023, 1.4])    # conductivity\n",
    "rho = np.array([2400, 80,    80,    80,    2000])   # density\n",
    "c = np.array([1000,   840,   840,   840,   1000])   # specific heat\n",
    "\n",
    "Uf = 1/(1/hi + np.sum(w/lam) + 1/hi)\n",
    "print('Uf =  % 5.3f W/m2 K, floor' % Uf)"
   ]
  },
  {
   "cell_type": "code",
   "execution_count": 4,
   "metadata": {},
   "outputs": [
    {
     "name": "stdout",
     "output_type": "stream",
     "text": [
      "Uc =   0.235 W/m2 K, celing\n"
     ]
    }
   ],
   "source": [
    "# Ceiling\n",
    "w = np.array([0.04,  0.04, 0.22,  0.01, 0.10])      # width\n",
    "lam = np.array([1.40, 0.04, 2.00,  1.00, 0.035])    # conductivity\n",
    "rho = np.array([2000, 80,   2400,  1200, 80])       # density\n",
    "c = np.array([2000, 840,  1000,  1000, 840])        # specific heat\n",
    "\n",
    "Uc = 1/(1/hi + np.sum(w/lam) + 1/hi)\n",
    "print('Uc =  % 5.3f W/m2 K, celing' % Uc)"
   ]
  },
  {
   "cell_type": "code",
   "execution_count": 5,
   "metadata": {},
   "outputs": [
    {
     "name": "stdout",
     "output_type": "stream",
     "text": [
      "Ud =   2.126 W/m2 K, door\n"
     ]
    }
   ],
   "source": [
    "# Exterior door\n",
    "w = 0.04    # width\n",
    "lam = 0.131  # conductivity\n",
    "rho = 600   # density\n",
    "c = 1000    # specific heat\n",
    "\n",
    "Ud = 1/(1/ho + w/lam + 1/hi)\n",
    "print('Ud =  % 5.3f W/m2 K, door' % Ud)"
   ]
  },
  {
   "cell_type": "markdown",
   "metadata": {},
   "source": [
    "## Surfaces [->]((http://construction.senova.fr/conseils-techniques/shob-et-shon-cest-fini-tout-sur-la-nouvelle-surface-de-plancher/))\n",
    "Calculate the surfaces of: \n",
    "- window, $S_{w}~\\mathrm{[m^2]}$, \n",
    "- exterior door, $S_{d}~\\mathrm{[m^2]}$,\n",
    "- exterior walls surface, $S_{e}~\\mathrm{[m^2]}$\n",
    "- floor, $S_{f}~\\mathrm{[m^2]}$\n",
    "- ceiling, $S_{c}~\\mathrm{[m^2]}$, \n",
    "\n",
    "to be used for heat transfert through the building envelope."
   ]
  },
  {
   "cell_type": "code",
   "execution_count": 6,
   "metadata": {},
   "outputs": [
    {
     "name": "stdout",
     "output_type": "stream",
     "text": [
      "\n",
      "Sw =   21.44 m2, window \n"
     ]
    }
   ],
   "source": [
    "# Windows\n",
    "Sw = 5*1.24*1.46                            # 5 windows\n",
    "Sw = Sw + 1.02*2.18 + 4.46*2.28            # picture window\n",
    "print('\\nSw =  % 5.2f m2, window ' % Sw)"
   ]
  },
  {
   "cell_type": "code",
   "execution_count": 7,
   "metadata": {},
   "outputs": [
    {
     "name": "stdout",
     "output_type": "stream",
     "text": [
      "Sd =   2.00 m2, exterior door \n"
     ]
    }
   ],
   "source": [
    "# Exterior door\n",
    "Sd = 1.00*2.00\n",
    "print('Sd =  % 5.2f m2, exterior door ' % Sd)"
   ]
  },
  {
   "cell_type": "code",
   "execution_count": 8,
   "metadata": {},
   "outputs": [
    {
     "name": "stdout",
     "output_type": "stream",
     "text": [
      "Se =   69.87 m2, exterior wall\n"
     ]
    }
   ],
   "source": [
    "# Exterior wall\n",
    "Se = 4*2.495*(10.05 - 2*0.35) - Sw - Sd     # indoor surface\n",
    "print('Se =  % 5.2f m2, exterior wall' % Se)"
   ]
  },
  {
   "cell_type": "code",
   "execution_count": 9,
   "metadata": {
    "scrolled": true
   },
   "outputs": [
    {
     "name": "stdout",
     "output_type": "stream",
     "text": [
      "Sf =   87.423 m2, floor \n",
      "Sc =   87.423 m2, ceiling\n"
     ]
    }
   ],
   "source": [
    "Sf = (10.05 - 2*0.35)*(10.05 - 2*0.35)      # indoor surface\n",
    "Sc = Sf\n",
    "print('Sf =  % 5.3f m2, floor ' % Sf)\n",
    "print('Sc =  % 5.3f m2, ceiling' % Sc)"
   ]
  },
  {
   "cell_type": "markdown",
   "metadata": {},
   "source": [
    "# Sensible and latent load of the thermal zone"
   ]
  },
  {
   "cell_type": "markdown",
   "metadata": {},
   "source": [
    "## Sensible load:\n",
    "- sensible heat loss through the envelope: external walls, windows, doors, and horizontal and vertical thermal bridges ${\\dot{Q}_{se}}~\\mathrm{[W]}$;\n",
    "- sensible heat loss through envelope and air infiltration ${\\dot{Q}_{sl}}~\\mathrm{[W]}$;\n",
    "- percentage of losses through walls, windows, door, thermal bridges, air infiltration;\n",
    "- sensible load of the thermal zone (considering the losses through the envelope and air infiltration, and the gains from occupants and the electrical devices), ${\\dot{Q}_{sz}}~\\mathrm{[W]}$;"
   ]
  },
  {
   "cell_type": "code",
   "execution_count": 10,
   "metadata": {},
   "outputs": [
    {
     "name": "stdout",
     "output_type": "stream",
     "text": [
      "\n",
      "Qse =  -2605.3 W, sensible heat / envelope\n"
     ]
    }
   ],
   "source": [
    "# Sensible heat loss through envelope\n",
    "Uw = 1.2                # U-window\n",
    "psiWF = 0.107           # psi wall-floor\n",
    "psiWC = 0.084           # psi wall-ceiling\n",
    "psiWW = 0.091           # psi wall-wall\n",
    "ti, to = 20, -10        # inddor, outdoor temperature\n",
    "tau = 0.8               # temp diff reduction for non-heated\n",
    "Qse = (Ue*Se + Uw*Sw + Ud*Sd + Uc*Sc*tau + Uf*Sf*tau +   # surfaces\n",
    "       psiWF*4*(10.05 - 2*0.35)/2 +  # hor. therm bridge wall-floor\n",
    "       psiWC*4*(10.05 - 2*0.35)/2 +  # hor. therm bridge wall-ceiling\n",
    "       psiWW*4*2.495)*(to - ti)      # vert. therm bridge wall-wall\n",
    "print(f'\\nQse =  {Qse:5.1f} W, sensible heat / envelope')"
   ]
  },
  {
   "cell_type": "code",
   "execution_count": 11,
   "metadata": {},
   "outputs": [
    {
     "name": "stdout",
     "output_type": "stream",
     "text": [
      "Qsz =  -612.5 W, sensible load of the zone \n"
     ]
    }
   ],
   "source": [
    "# Sensible heat load of the zone: losses through envelope and air infiltration\n",
    "# and gains from occupants and electrical devices \n",
    "h = 2.495               # zone height [ù]\n",
    "Vz = h*Sf               # zone volume\n",
    "n50 = 1.62              # infiltration rate at 50 Pa\n",
    "ACH = n50/23            # corrected for normal wind pressure\n",
    "vo = 0.75               # specific volume [m3/kg]\n",
    "mdao = ACH*Vz/3600/vo   # outdoor dry air mass flow rate\n",
    "\n",
    "pe = 20                 # lectrical power W/m2\n",
    "np = 5                  # no persons\n",
    "qsp = 83                # sensible heat per person\n",
    "Qsz = Qse + mdao*c_da*(to - ti) + pe*Sf + np*qsp\n",
    "print('Qsz =  % 5.1f W, sensible load of the zone ' % Qsz)"
   ]
  },
  {
   "cell_type": "code",
   "execution_count": 12,
   "metadata": {},
   "outputs": [
    {
     "name": "stdout",
     "output_type": "stream",
     "text": [
      "\n",
      "Percentage of losses:\n",
      "    57 % - walls\n",
      " 3e+01 % - windows\n",
      "     5 % - door\n",
      "     5 % - thermal bridges\n",
      "     6 % - air infiltration\n",
      "100.00 % - TOTAL\n"
     ]
    }
   ],
   "source": [
    "# Percentage of losses\n",
    "Qwalls = (Ue*Se + Uc*Sc*tau + Uf*Sf*tau)*(to - ti)\n",
    "Qwindows = Uw*Sw*(to - ti)\n",
    "Qdoor = Ud*Sd*(to - ti)\n",
    "Qthrm_br = (psiWF*4*(10.05 - 2*0.35)/2 +  # hor. therm bridge wall-floor\n",
    "            psiWC*4*(10.05 - 2*0.35)/2 +  # hor. therm bridge wall-ceiling\n",
    "            psiWW*4*2.495)*(to - ti)      # vert. therm bridge wall-wall\n",
    "Qinfilt = mdao*c_da*(to - ti)\n",
    "Qlosses = Qwalls + Qwindows + Qdoor + Qthrm_br + Qinfilt\n",
    "print('\\nPercentage of losses:')\n",
    "print(f'{Qwalls/Qlosses*100:6.0f} % - walls')\n",
    "print(f'{Qwindows/Qlosses*100:6.0} % - windows')\n",
    "print(f'{Qdoor/Qlosses*100:6.0f} % - door')\n",
    "print(f'{Qthrm_br/Qlosses*100:6.0f} % - thermal bridges')\n",
    "print(f'{Qinfilt/Qlosses*100:6.0f} % - air infiltration')\n",
    "print(f'{(Qwalls+Qwindows+Qdoor+Qthrm_br+Qinfilt)/Qlosses*100:6.2f} % - TOTAL')"
   ]
  },
  {
   "cell_type": "markdown",
   "metadata": {},
   "source": [
    "## Latent load of the zone\n",
    "\n",
    "Humidity ratio [->](http://www.sugartech.co.za/psychro/index.php)\n",
    "* $\\theta_i = 20~\\mathrm{°C},~\\varphi_i=60~\\% \\Rightarrow w_i=8.7 ~\\mathrm{g/kg_{da}}, ~v=0.75~\\mathrm{m^3}$  indoor\n",
    "\n",
    "* $\\theta_o = -10~\\mathrm{°C},~\\varphi_o=100~\\% \\Rightarrow w_o=1.6 ~\\mathrm{g/kg_{da}}$  outdoor\n",
    "\n",
    "* $\\theta_a = -4~\\mathrm{°C},~w_a=w_i=1.6 ~\\mathrm{g/kg_{da}}$  attic\n",
    "\n",
    "* $\\theta_c = -4~\\mathrm{°C},~w_c=w_i=1.6 ~\\mathrm{g/kg_{da}}$  cellar\n"
   ]
  },
  {
   "cell_type": "code",
   "execution_count": 13,
   "metadata": {},
   "outputs": [
    {
     "name": "stdout",
     "output_type": "stream",
     "text": [
      "Qlz =   145.2 W, latent load of the zone \n"
     ]
    }
   ],
   "source": [
    "# Latent heat load of the zone\n",
    "wi, wo = 8.7e-3, 1.6e-3 # humidity ratio [kg/kgda]\n",
    "mvp = 71e-3/3600        # vapor mass flow per person [kg/s]\n",
    "Qlz = np*mvp*l_v + mdao*l_v*(wo - wi)\n",
    "print('Qlz =  % 5.1f W, latent load of the zone ' % Qlz)"
   ]
  },
  {
   "cell_type": "markdown",
   "metadata": {},
   "source": [
    "# Supply air"
   ]
  },
  {
   "cell_type": "markdown",
   "metadata": {},
   "source": [
    "## Characteristics of supply air\n",
    ">- mass flow rate of supply air, $\\dot{m}_{da,S}~\\mathrm{[kg/s]}$;\n",
    ">- temperature of supply air, $\\theta_{S}~\\mathrm{[°C]}$;\n",
    ">- humidity of supply air, $w_{S}~\\mathrm{[g/kg]}$;\n",
    ">- volume flow rate of supply air, $\\dot{V}_S~\\mathrm{[m^3/s]}$\n",
    ">- supply air flow rate expressed as air chnages per hour of the whole zone, $ACH~\\mathrm{[vol/h]}$\n",
    "\n",
    "**Mass flow rate of supply dry air**"
   ]
  },
  {
   "cell_type": "code",
   "execution_count": 14,
   "metadata": {},
   "outputs": [
    {
     "name": "stdout",
     "output_type": "stream",
     "text": [
      "mdaS =  0.0408 kg/s, mass flow rate supply dry air\n"
     ]
    }
   ],
   "source": [
    "tS = ti + 15            # supply temperature\n",
    "mdaS = -Qsz/(c_da*(tS - ti))\n",
    "print(f'mdaS = {mdaS: 5.4f} kg/s, mass flow rate supply dry air')"
   ]
  },
  {
   "cell_type": "markdown",
   "metadata": {},
   "source": [
    "**Temperature supply air**"
   ]
  },
  {
   "cell_type": "code",
   "execution_count": 15,
   "metadata": {},
   "outputs": [
    {
     "name": "stdout",
     "output_type": "stream",
     "text": [
      "tS = 35.00 °C\n"
     ]
    }
   ],
   "source": [
    "wS = wi - Qlz/(mdaS*l_v)\n",
    "print(f'tS = {tS:5.2f} °C')"
   ]
  },
  {
   "cell_type": "markdown",
   "metadata": {},
   "source": [
    "**Humidity supply air**"
   ]
  },
  {
   "cell_type": "code",
   "execution_count": 16,
   "metadata": {},
   "outputs": [
    {
     "name": "stdout",
     "output_type": "stream",
     "text": [
      "wS =  7.27 g/kg\n"
     ]
    }
   ],
   "source": [
    "wS = wi - Qlz/(mdaS*l_v)\n",
    "print(f'wS = {wS*1000:5.3} g/kg')"
   ]
  },
  {
   "cell_type": "markdown",
   "metadata": {},
   "source": [
    "**Volume flow rate of supply air**"
   ]
  },
  {
   "cell_type": "code",
   "execution_count": 17,
   "metadata": {},
   "outputs": [
    {
     "name": "stdout",
     "output_type": "stream",
     "text": [
      "VS =  0.0359 m3/s, vol. flow rate supply da\n"
     ]
    }
   ],
   "source": [
    "# volume flow of suply air\n",
    "v = 0.88    # [m3:kg] @ 35°C 7.21 g/kg\n",
    "VS = mdaS*v\n",
    "print(f'VS = {VS: 5.4f} m3/s, vol. flow rate supply da')"
   ]
  },
  {
   "cell_type": "markdown",
   "metadata": {},
   "source": [
    "Supply air flow rate expressed as air chnages per hour of the whole zone"
   ]
  },
  {
   "cell_type": "code",
   "execution_count": 18,
   "metadata": {},
   "outputs": [
    {
     "name": "stdout",
     "output_type": "stream",
     "text": [
      "ACH_S =  1.69 vol/h, ACH flow rate supply da\n"
     ]
    }
   ],
   "source": [
    "print(f'ACH_S = {Sf*h/VS/3600: 5.2f} vol/h, ACH flow rate supply da')"
   ]
  },
  {
   "cell_type": "markdown",
   "metadata": {},
   "source": [
    "## All outdoor air \n",
    "\n",
    ">- heating power of Air Handling Unit, $\\dot{Q}_{h}~\\mathrm{[W]}$;\n",
    ">- mass flow rate of vapor of Air Handling Unit, $\\dot{m}_{v}~\\mathrm{[g/s]}$;\n",
    ">- indoor humidity if there is no humidity control, $w_I~\\mathrm{[g/kg]},~\\varphi_I~\\mathrm{[\\%]}$"
   ]
  },
  {
   "cell_type": "code",
   "execution_count": 19,
   "metadata": {},
   "outputs": [
    {
     "name": "stdout",
     "output_type": "stream",
     "text": [
      "\n",
      "QsAHU =   1838 W sensible heat\n"
     ]
    }
   ],
   "source": [
    "# All outdoor air\n",
    "QsAHU = -mdaS*c_da*(to - tS)\n",
    "print(f'\\nQsAHU = {QsAHU: 6.0f} W sensible heat')"
   ]
  },
  {
   "cell_type": "code",
   "execution_count": 20,
   "metadata": {},
   "outputs": [
    {
     "name": "stdout",
     "output_type": "stream",
     "text": [
      "mvAHU =  0.232 g/s vapor mass flow\n",
      "i.e. 0.834 l/h of water to be vaporized\n"
     ]
    }
   ],
   "source": [
    "mvAHU = -mdaS*(wo - wS)\n",
    "print(f'mvAHU = {mvAHU*1000: 6.3f} g/s vapor mass flow')\n",
    "print(f'i.e. {mvAHU*3600:5.3f} l/h of water to be vaporized')"
   ]
  },
  {
   "cell_type": "markdown",
   "metadata": {},
   "source": [
    "Indoor humidity w/o humidity control"
   ]
  },
  {
   "cell_type": "code",
   "execution_count": 21,
   "metadata": {},
   "outputs": [
    {
     "name": "stdout",
     "output_type": "stream",
     "text": [
      "wI =   8.7 g/kg, indoor humidity w/o humidity control\n"
     ]
    }
   ],
   "source": [
    "# indoor humidity w/o humidity control\n",
    "wI = (mdaS*wS + mdao*wo + np*mvp)/(mdaS + mdao)\n",
    "print(f'wI = {wI*1000: 5.1f} g/kg, indoor humidity w/o humidity control')"
   ]
  },
  {
   "cell_type": "markdown",
   "metadata": {},
   "source": [
    "[20°C 9 g/kg] saturated air $\\varphi=60\\%$\n",
    " "
   ]
  },
  {
   "cell_type": "markdown",
   "metadata": {},
   "source": [
    "## All recycled air\n",
    "\n",
    ">- heating power of Air Handling Unit, $\\dot{Q}_{h}~\\mathrm{[W]}$;\n",
    ">- mass flow rate of vapor of Air Handling Unit, $\\dot{m}_{v}~\\mathrm{[kg/s]}$;\n",
    ">- indoor humidity if there is no humidity control, $w_I~\\mathrm{[g/kg]},~\\varphi_I~\\mathrm{[\\%]}$"
   ]
  },
  {
   "cell_type": "code",
   "execution_count": 22,
   "metadata": {},
   "outputs": [
    {
     "name": "stdout",
     "output_type": "stream",
     "text": [
      "\n",
      "QsAHU =    613 W sensible heat\n"
     ]
    }
   ],
   "source": [
    "# All recycled air\n",
    "QsAHU = -mdaS*c_da*(ti - tS)\n",
    "print(f'\\nQsAHU = {QsAHU: 6.0f} W sensible heat')\n"
   ]
  },
  {
   "cell_type": "code",
   "execution_count": 23,
   "metadata": {},
   "outputs": [
    {
     "name": "stdout",
     "output_type": "stream",
     "text": [
      "mvAHU = -0.058 g/s vapor mass flow\n",
      "i.e. -0.210 l/h of water to be vaporized\n"
     ]
    }
   ],
   "source": [
    "mvAHU = -mdaS*(wi - wS)\n",
    "print(f'mvAHU = {mvAHU*1000: 6.3f} g/s vapor mass flow')\n",
    "print(f'i.e. {mvAHU*3600:6.3f} l/h of water to be vaporized')"
   ]
  },
  {
   "cell_type": "markdown",
   "metadata": {},
   "source": [
    "Indoor humidity w/o humidity control"
   ]
  },
  {
   "cell_type": "code",
   "execution_count": 24,
   "metadata": {
    "scrolled": true
   },
   "outputs": [
    {
     "name": "stdout",
     "output_type": "stream",
     "text": [
      "wI =  18.9 g/kg, indoor humidity w/o humidity control\n"
     ]
    }
   ],
   "source": [
    "wI = wo + np*mvp/mdao\n",
    "print(f'wI = {wI*1000: 5.1f} g/kg, indoor humidity w/o humidity control')"
   ]
  },
  {
   "cell_type": "markdown",
   "metadata": {},
   "source": [
    "[20°C 19 g/kg] saturated air $\\varphi=100\\%$"
   ]
  },
  {
   "cell_type": "markdown",
   "metadata": {},
   "source": [
    "# Help on Jupyter\n",
    "\n",
    "[LaTex Equations](https://www.codecogs.com/latex/eqneditor.php)\n",
    "\n",
    "[LaTex Equations](https://latex.codecogs.com/eqneditor/editor.php)\n",
    "\n",
    "[Latex Table generator](https://www.tablesgenerator.com/markdown_tables#)\n",
    "\n",
    "[Jupyter Notebook cheatsheet](https://medium.com/ibm-data-science-experience/markdown-for-jupyter-notebooks-cheatsheet-386c05aeebed)\n",
    "\n",
    "[Anaconda cheetsheet](https://docs.continuum.io/anaconda/user-guide/cheatsheet/)\n",
    "\n",
    "[NumPy for MATLAB users](http://mathesaurus.sourceforge.net/matlab-numpy.html)\n",
    "\n",
    "\n"
   ]
  }
 ],
 "metadata": {
  "kernelspec": {
   "display_name": "Python 3",
   "language": "python",
   "name": "python3"
  },
  "language_info": {
   "codemirror_mode": {
    "name": "ipython",
    "version": 3
   },
   "file_extension": ".py",
   "mimetype": "text/x-python",
   "name": "python",
   "nbconvert_exporter": "python",
   "pygments_lexer": "ipython3",
   "version": "3.7.6"
  },
  "toc-autonumbering": true
 },
 "nbformat": 4,
 "nbformat_minor": 4
}
